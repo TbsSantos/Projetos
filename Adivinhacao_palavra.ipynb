{
  "nbformat": 4,
  "nbformat_minor": 0,
  "metadata": {
    "colab": {
      "provenance": [],
      "authorship_tag": "ABX9TyNI1fjN84jZxKE9B5QNbMn3",
      "include_colab_link": true
    },
    "kernelspec": {
      "name": "python3",
      "display_name": "Python 3"
    },
    "language_info": {
      "name": "python"
    }
  },
  "cells": [
    {
      "cell_type": "markdown",
      "metadata": {
        "id": "view-in-github",
        "colab_type": "text"
      },
      "source": [
        "<a href=\"https://colab.research.google.com/github/TbsSantos/Projetos/blob/main/Adivinhacao_palavra.ipynb\" target=\"_parent\"><img src=\"https://colab.research.google.com/assets/colab-badge.svg\" alt=\"Open In Colab\"/></a>"
      ]
    },
    {
      "cell_type": "markdown",
      "source": [
        "JOGO DA FORCA"
      ],
      "metadata": {
        "id": "e5s1C03wLKpq"
      }
    },
    {
      "cell_type": "code",
      "execution_count": 1,
      "metadata": {
        "id": "i785h-hbKbyx"
      },
      "outputs": [],
      "source": [
        "#importar bibliotecas\n",
        "import random\n"
      ]
    },
    {
      "cell_type": "code",
      "source": [
        "def inicio():\n",
        "  nome = input(\"Qual seu nome?\\n\")\n",
        "  nivel = int(input(\"Qual dificuldade deseja jogar 1 , 2 ou 3?\\n\"))\n",
        "  while True:\n",
        "    if (nivel < 1) or (nivel >3):\n",
        "      nivel = int(input(\"Escolha o nível corretamente, entre 1 e  3:\\n\"))\n",
        "    else:\n",
        "      break\n",
        "  print(f'Boa sorte {nome}\\n')\n",
        "  print(\"Adivinhe os caracteres\\n\")\n",
        "\n",
        "\n",
        "  return int(nivel)\n",
        "\n"
      ],
      "metadata": {
        "id": "NKOiKtTFKydy"
      },
      "execution_count": 5,
      "outputs": []
    },
    {
      "cell_type": "code",
      "source": [
        "palavras = {1:[\"Veja\",\"Como\",\"Para\",\"Liga\",\"Fera\",\"Vivo\",\"Mira\",\"Pode\",\"Goma\",\"Nome\",\"Alta\",\n",
        "\"Desse\",\"Olha\",\"Pega\",\"Vida\",\"Faca\",\"Cabe\",\"Toma\",\"Loja\",\"Logo\",\"Mato\",'amor'],\n",
        "2:[\"atirar\",\t\"sonhar\",\t'acatar','miasma',\t'valete',\t'frenar','gelado',\t\n",
        "   'paleta',\t'pairar','hausto',\t'frisar',\t'haicai','aferir',\t'florir',\t'assume'],\n",
        " 3:['sensatez' , 'ressalva', 'lunático', 'estranho', 'factível', 'disperso', 'fortuito',  'fulguras', 'prosaico', 'preceito']  }"
      ],
      "metadata": {
        "id": "jPBb9L4nM6Ec"
      },
      "execution_count": 3,
      "outputs": []
    },
    {
      "cell_type": "code",
      "source": [
        "def game():\n",
        "\n",
        "  numero = inicio()\n",
        "\n",
        "  #Escolhendo a  palavra e quantidade de palpites com base no nivel\n",
        "  palavra =  random.choice(palavras[numero])\n",
        "  #Transformando a palavra em minuscula.\n",
        "  palavra = palavra.lower()\n",
        " \n",
        " # print(palavra)\n",
        "  if numero == 1:\n",
        "    tentativas = 12\n",
        "  elif numero == 2:\n",
        "    tentativas = 8\n",
        "  else:\n",
        "    tentativas = 6\n",
        "\n",
        "  palpites = ''\n",
        "\n",
        "  while tentativas >0:\n",
        "    erro = 0\n",
        "\n",
        "    for letra in palavra:\n",
        "      if letra in palpites:\n",
        "        print(letra)\n",
        "      else:\n",
        "        print(\"-\")\n",
        "        erro +=1\n",
        "    \n",
        "\n",
        "    if erro == 0:\n",
        "      print(\"Você Ganhou!!!\")\n",
        "      print(f'\\nA palavra é: {palavra}')\n",
        "      break\n",
        "\n",
        "    palpite = input(\"Digite uma letra\")\n",
        "    #Transformando o palpite em minusculo, assim o jogo nao fica sensitive case\n",
        "    palpite = palpite.lower()\n",
        "    palpites += palpite\n",
        "\n",
        "    if palpite not in palavra:\n",
        "      tentativas -= 1\n",
        "      if tentativas == 0:\n",
        "        print(\"Você perdeu\")\n",
        "        break\n",
        "      print('Não tem essa letra')\n",
        "      print(f'Você tem {tentativas}, tentativas.')\n",
        "  \n",
        "\n",
        "  "
      ],
      "metadata": {
        "id": "vcPYNlStNy0m"
      },
      "execution_count": 27,
      "outputs": []
    },
    {
      "cell_type": "code",
      "source": [
        "game()"
      ],
      "metadata": {
        "colab": {
          "base_uri": "https://localhost:8080/"
        },
        "id": "fMjp7jOkZ5CU",
        "outputId": "5449c83f-cc29-4ae5-f451-23e7edce2a28"
      },
      "execution_count": 29,
      "outputs": [
        {
          "output_type": "stream",
          "name": "stdout",
          "text": [
            "Qual seu nome?\n",
            "TBS\n",
            "Qual dificuldade deseja jogar 1 , 2 ou 3?\n",
            "3\n",
            "Boa sorte TBS\n",
            "\n",
            "Adivinhe os caracteres\n",
            "\n",
            "-\n",
            "-\n",
            "-\n",
            "-\n",
            "-\n",
            "-\n",
            "-\n",
            "-\n",
            "Digite uma letraa\n",
            "-\n",
            "-\n",
            "-\n",
            "-\n",
            "a\n",
            "-\n",
            "-\n",
            "a\n",
            "Digite uma letrar\n",
            "r\n",
            "-\n",
            "-\n",
            "-\n",
            "a\n",
            "-\n",
            "-\n",
            "a\n",
            "Digite uma letrae\n",
            "r\n",
            "e\n",
            "-\n",
            "-\n",
            "a\n",
            "-\n",
            "-\n",
            "a\n",
            "Digite uma letras\n",
            "r\n",
            "e\n",
            "s\n",
            "s\n",
            "a\n",
            "-\n",
            "-\n",
            "a\n",
            "Digite uma letral\n",
            "r\n",
            "e\n",
            "s\n",
            "s\n",
            "a\n",
            "l\n",
            "-\n",
            "a\n",
            "Digite uma letrav\n",
            "r\n",
            "e\n",
            "s\n",
            "s\n",
            "a\n",
            "l\n",
            "v\n",
            "a\n",
            "Você Ganhou!!!\n",
            "\n",
            "A palavra é: ressalva\n"
          ]
        }
      ]
    }
  ]
}