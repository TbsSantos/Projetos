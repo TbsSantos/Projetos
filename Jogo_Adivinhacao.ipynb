{
  "cells": [
    {
      "cell_type": "markdown",
      "metadata": {
        "id": "view-in-github",
        "colab_type": "text"
      },
      "source": [
        "<a href=\"https://colab.research.google.com/github/TbsSantos/Projetos/blob/main/Jogo_Adivinhacao.ipynb\" target=\"_parent\"><img src=\"https://colab.research.google.com/assets/colab-badge.svg\" alt=\"Open In Colab\"/></a>"
      ]
    },
    {
      "cell_type": "markdown",
      "id": "90a834ea",
      "metadata": {
        "id": "90a834ea"
      },
      "source": [
        "# Jogo de adivinhação de números"
      ]
    },
    {
      "cell_type": "code",
      "execution_count": null,
      "id": "258f3de3",
      "metadata": {
        "id": "258f3de3"
      },
      "outputs": [],
      "source": [
        "# Importando biblioteca random para gerar números aleatórios\n",
        "import random"
      ]
    },
    {
      "cell_type": "code",
      "execution_count": null,
      "id": "edc2c69d",
      "metadata": {
        "id": "edc2c69d"
      },
      "outputs": [],
      "source": [
        "# função para criar valor aletorio\n",
        "def valor_gerado():\n",
        "    valor = random.randint(1,100)\n",
        "    return valor"
      ]
    },
    {
      "cell_type": "code",
      "execution_count": null,
      "id": "28f131e9",
      "metadata": {
        "id": "28f131e9"
      },
      "outputs": [],
      "source": [
        "#Refatorando código\n",
        "def game_over(i,qtd,valor):\n",
        "    if i > qtd:\n",
        "        print(\"GAME OVER!!!\\n\")\n",
        "        print(f'O valor buscado era: {valor}.'),\n",
        "        print(f'Boa sorte na próxima!')\n",
        "        return 1\n",
        "    else:\n",
        "        return 0 \n",
        "    \n",
        "    "
      ]
    },
    {
      "cell_type": "code",
      "execution_count": null,
      "id": "c18e5d42",
      "metadata": {
        "id": "c18e5d42"
      },
      "outputs": [],
      "source": [
        "# função para receber valores do usuário e fazer comparações\n",
        "def jogo():\n",
        "    # variavel para salvar quantidade de chances\n",
        "    qtd = int(input(\"Deseja quantas chances para tentar acertar?\\n\"))\n",
        "    while True:\n",
        "        if ((qtd < 1) or (qtd >10)):\n",
        "            print(\"Escolha um valor de um a dez\")\n",
        "            qtd = int(input(\"Deseja quantas chances para tentar acertar?\\n\"))\n",
        "        else:\n",
        "            break\n",
        "        \n",
        "    #chamando função para pegar valor aleatório\n",
        "    qtd = qtd -1 \n",
        "    valor = valor_gerado()\n",
        "    i=1\n",
        "    teste = int(input(\"informe um valor \\n\"))\n",
        "    \n",
        "    while True:\n",
        "              \n",
        "        #eliminando valores fora do range\n",
        "        if ((teste < 1) or (teste >100)):\n",
        "            print(\"Valor inválido, escolha de 0 a 100\")\n",
        "            teste = int(input(\"informe um valor \\n\"))\n",
        "        else:\n",
        "            #Comparando valores digitados com o valor gerado aleatoriamente\n",
        "            if teste > valor:\n",
        "                if game_over(i,qtd,valor) == 1:\n",
        "                    break\n",
        "                print(\"Tente novamente, você chutou muito ALTO!\")\n",
        "                teste = int(input(\"informe um valor \\n\"))\n",
        "            elif teste < valor:\n",
        "                if game_over(i,qtd,valor) == 1:\n",
        "                    break\n",
        "                print(\"Tente novamente, você chutou muito BAIXO!\")\n",
        "                teste = int(input(\"informe um valor \\n\"))\n",
        "            else:\n",
        "                print(f'PARABÉNS VOCÊ ACERTOU!! \\nCom {i} tentativas válidas.')\n",
        "                break\n",
        "            i +=1\n",
        "            \n",
        "           \n",
        "                \n",
        "                \n",
        "    "
      ]
    },
    {
      "cell_type": "code",
      "execution_count": null,
      "id": "466ec4e6",
      "metadata": {
        "scrolled": true,
        "colab": {
          "base_uri": "https://localhost:8080/"
        },
        "id": "466ec4e6",
        "outputId": "c25e5e5f-23be-4377-fc25-491404f64229"
      },
      "outputs": [
        {
          "output_type": "stream",
          "name": "stdout",
          "text": [
            "Deseja quantas chances para tentar acertar?\n",
            "2\n",
            "informe um valor \n",
            "50\n",
            "Tente novamente, você chutou muito ALTO!\n",
            "informe um valor \n",
            "20\n",
            "GAME OVER!!!\n",
            "\n",
            "O valor buscado era: 21.\n",
            "Boa sorte na próxima!\n"
          ]
        }
      ],
      "source": [
        "jogo()\n"
      ]
    },
    {
      "cell_type": "code",
      "execution_count": null,
      "id": "59d4a2c5",
      "metadata": {
        "id": "59d4a2c5"
      },
      "outputs": [],
      "source": []
    }
  ],
  "metadata": {
    "kernelspec": {
      "display_name": "Python 3 (ipykernel)",
      "language": "python",
      "name": "python3"
    },
    "language_info": {
      "codemirror_mode": {
        "name": "ipython",
        "version": 3
      },
      "file_extension": ".py",
      "mimetype": "text/x-python",
      "name": "python",
      "nbconvert_exporter": "python",
      "pygments_lexer": "ipython3",
      "version": "3.9.13"
    },
    "colab": {
      "provenance": [],
      "include_colab_link": true
    }
  },
  "nbformat": 4,
  "nbformat_minor": 5
}