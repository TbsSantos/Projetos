{
  "nbformat": 4,
  "nbformat_minor": 0,
  "metadata": {
    "colab": {
      "provenance": [],
      "authorship_tag": "ABX9TyOx8d988aOWfIXGqy46kR0e",
      "include_colab_link": true
    },
    "kernelspec": {
      "name": "python3",
      "display_name": "Python 3"
    },
    "language_info": {
      "name": "python"
    }
  },
  "cells": [
    {
      "cell_type": "markdown",
      "metadata": {
        "id": "view-in-github",
        "colab_type": "text"
      },
      "source": [
        "<a href=\"https://colab.research.google.com/github/TbsSantos/Projetos/blob/main/Twitter.ipynb\" target=\"_parent\"><img src=\"https://colab.research.google.com/assets/colab-badge.svg\" alt=\"Open In Colab\"/></a>"
      ]
    },
    {
      "cell_type": "markdown",
      "source": [
        "Analise de Sentimento Twitter\n"
      ],
      "metadata": {
        "id": "PfMjs8PXelvm"
      }
    },
    {
      "cell_type": "code",
      "source": [
        "#instalando dependência\n",
        "!pip install tweepy\n",
        "!pip install -U textblob\n",
        "!python -m textblob.download_corpora"
      ],
      "metadata": {
        "colab": {
          "base_uri": "https://localhost:8080/"
        },
        "id": "-e2-kLgOfBYj",
        "outputId": "a020be16-b8f4-45cc-ac2b-fed5fa4f82dd"
      },
      "execution_count": 12,
      "outputs": [
        {
          "output_type": "stream",
          "name": "stdout",
          "text": [
            "Looking in indexes: https://pypi.org/simple, https://us-python.pkg.dev/colab-wheels/public/simple/\n",
            "Requirement already satisfied: tweepy in /usr/local/lib/python3.8/dist-packages (3.10.0)\n",
            "Requirement already satisfied: requests-oauthlib>=0.7.0 in /usr/local/lib/python3.8/dist-packages (from tweepy) (1.3.1)\n",
            "Requirement already satisfied: six>=1.10.0 in /usr/local/lib/python3.8/dist-packages (from tweepy) (1.15.0)\n",
            "Requirement already satisfied: requests[socks]>=2.11.1 in /usr/local/lib/python3.8/dist-packages (from tweepy) (2.25.1)\n",
            "Requirement already satisfied: oauthlib>=3.0.0 in /usr/local/lib/python3.8/dist-packages (from requests-oauthlib>=0.7.0->tweepy) (3.2.2)\n",
            "Requirement already satisfied: urllib3<1.27,>=1.21.1 in /usr/local/lib/python3.8/dist-packages (from requests[socks]>=2.11.1->tweepy) (1.24.3)\n",
            "Requirement already satisfied: certifi>=2017.4.17 in /usr/local/lib/python3.8/dist-packages (from requests[socks]>=2.11.1->tweepy) (2022.12.7)\n",
            "Requirement already satisfied: chardet<5,>=3.0.2 in /usr/local/lib/python3.8/dist-packages (from requests[socks]>=2.11.1->tweepy) (4.0.0)\n",
            "Requirement already satisfied: idna<3,>=2.5 in /usr/local/lib/python3.8/dist-packages (from requests[socks]>=2.11.1->tweepy) (2.10)\n",
            "Requirement already satisfied: PySocks!=1.5.7,>=1.5.6 in /usr/local/lib/python3.8/dist-packages (from requests[socks]>=2.11.1->tweepy) (1.7.1)\n",
            "Looking in indexes: https://pypi.org/simple, https://us-python.pkg.dev/colab-wheels/public/simple/\n",
            "Requirement already satisfied: textblob in /usr/local/lib/python3.8/dist-packages (0.17.1)\n",
            "Requirement already satisfied: nltk>=3.1 in /usr/local/lib/python3.8/dist-packages (from textblob) (3.7)\n",
            "Requirement already satisfied: regex>=2021.8.3 in /usr/local/lib/python3.8/dist-packages (from nltk>=3.1->textblob) (2022.6.2)\n",
            "Requirement already satisfied: click in /usr/local/lib/python3.8/dist-packages (from nltk>=3.1->textblob) (7.1.2)\n",
            "Requirement already satisfied: joblib in /usr/local/lib/python3.8/dist-packages (from nltk>=3.1->textblob) (1.2.0)\n",
            "Requirement already satisfied: tqdm in /usr/local/lib/python3.8/dist-packages (from nltk>=3.1->textblob) (4.64.1)\n",
            "[nltk_data] Downloading package brown to /root/nltk_data...\n",
            "[nltk_data]   Package brown is already up-to-date!\n",
            "[nltk_data] Downloading package punkt to /root/nltk_data...\n",
            "[nltk_data]   Package punkt is already up-to-date!\n",
            "[nltk_data] Downloading package wordnet to /root/nltk_data...\n",
            "[nltk_data]   Package wordnet is already up-to-date!\n",
            "[nltk_data] Downloading package averaged_perceptron_tagger to\n",
            "[nltk_data]     /root/nltk_data...\n",
            "[nltk_data]   Package averaged_perceptron_tagger is already up-to-\n",
            "[nltk_data]       date!\n",
            "[nltk_data] Downloading package conll2000 to /root/nltk_data...\n",
            "[nltk_data]   Package conll2000 is already up-to-date!\n",
            "[nltk_data] Downloading package movie_reviews to /root/nltk_data...\n",
            "[nltk_data]   Package movie_reviews is already up-to-date!\n",
            "Finished.\n"
          ]
        }
      ]
    },
    {
      "cell_type": "code",
      "source": [
        "#importando bibliotecas\n",
        "import re \n",
        "import tweepy \n",
        "from tweepy import OAuthHandler \n",
        "from textblob import TextBlob "
      ],
      "metadata": {
        "id": "9mNsNDbge9KV"
      },
      "execution_count": 13,
      "outputs": []
    },
    {
      "cell_type": "code",
      "source": [
        "#Criando a classe para autenticar\n",
        "\n",
        "class TwitterClient(object):\n",
        "  def __init__(self): \n",
        "    \n",
        "\n",
        "    consumer_key = 'TqjQZaVF6kpSrG9XUpVwlGWnf'\n",
        "    consumer_secret = 'xpYqgIlOybSXt7tWPKj377CxhLoMUpf4MREm7ENEsDz4S8e0rq'\n",
        "    access_token = '1541587465789706242-A5TQqtXkT92RsjJjTijxVg0hhZXa4d'\n",
        "    access_token_secret = 'oJ3LfWWfAA8VbWweCaUtUtBIVaZgycy0OpIKlroYmkR1N'\n",
        "    try: \n",
        "      self.auth = OAuthHandler(consumer_key, consumer_secret) \n",
        "      self.auth.set_access_token(access_token, access_token_secret) \n",
        "      self.api = tweepy.API(self.auth) \n",
        "    except: \n",
        "      print(\"Error: Authentication Failed\")\n",
        "\n",
        "\n",
        "  def clean_tweet(self, tweet): \n",
        "\n",
        "    return ' '.join(re.sub(\"(@[A-Za-z0-9]+)|([^0-9A-Za-z \\t])|(\\w+:\\/\\/\\S+)\", \" \", tweet).split()) \n",
        "\n",
        "  def get_tweet_sentiment(self, tweet): \n",
        "\n",
        "    analysis = TextBlob(self.clean_tweet(tweet)) \n",
        "    if analysis.sentiment.polarity > 0: \n",
        "      return 'positive'\n",
        "    elif analysis.sentiment.polarity == 0: \n",
        "      return 'neutral'\n",
        "    else: \n",
        "      return 'negative'\n",
        "  \n",
        "\n",
        "  def get_tweets(self, query, count = 10): \n",
        "          \n",
        "    tweets = [] \n",
        "    try:  \n",
        "      fetched_tweets = self.api.search(q = query, count = count) \n",
        "      for tweet in fetched_tweets: \n",
        "        parsed_tweet = {} \n",
        "        parsed_tweet['text'] = tweet.text \n",
        "        parsed_tweet['sentiment'] = self.get_tweet_sentiment(tweet.text) \n",
        "        if tweet.retweet_count > 0: \n",
        "          if parsed_tweet not in tweets: \n",
        "            tweets.append(parsed_tweet) \n",
        "          else: \n",
        "            tweets.append(parsed_tweet) \n",
        "      return tweets \n",
        "    except tweepy.TweepError as e: \n",
        "              print(\"Error : \" + str(e))\n",
        "\n",
        "  def main(): \n",
        "      assunto = input(\"Qual assunto?\")\n",
        "      api = TwitterClient() \n",
        "      \n",
        "      tweets = api.get_tweets(query = assunto, count = 300) \n",
        "    \n",
        "      \n",
        "      ptweets = [tweet for tweet in tweets if tweet['sentiment'] == 'positive'] \n",
        "      \n",
        "      print(\"percentual de twets POSITIVOS: {} %\".format(100*len(ptweets)/len(tweets))) \n",
        "      \n",
        "      ntweets = [tweet for tweet in tweets if tweet['sentiment'] == 'negative'] \n",
        "      \n",
        "      print(\"percentual de twets NEGATIVOS: {} %\".format(100*len(ntweets)/len(tweets))) \n",
        "      \n",
        "      print(\"percentual de twets NEUTROS: {} % \\n\".format(100*(len(tweets) -(len( ntweets )+len( ptweets)))/len(tweets))) \n",
        "    \n",
        "      \n",
        "      print(\"\\n\\nTweets POSITIVOS:\") \n",
        "      for tweet in ptweets[:10]: \n",
        "          print(tweet['text']) \n",
        "    \n",
        "      \n",
        "      print(\"\\n\\nTweets NEGATIVOS:\") \n",
        "      for tweet in ntweets[:10]: \n",
        "          print(tweet['text']) \n",
        "    \n",
        "  if __name__ == \"__main__\": \n",
        "      \n",
        "      main() \n",
        "\n"
      ],
      "metadata": {
        "colab": {
          "base_uri": "https://localhost:8080/"
        },
        "id": "A7rC4_-chmNL",
        "outputId": "45a382ca-cd73-4c06-810d-d87cec89e3c1"
      },
      "execution_count": 29,
      "outputs": [
        {
          "output_type": "stream",
          "name": "stdout",
          "text": [
            "Qual assunto?lula\n",
            "percentual de twets POSITIVOS: 3.75 %\n",
            "percentual de twets NEGATIVOS: 2.5 %\n",
            "percentual de twets NEUTROS: 93.75 % \n",
            "\n",
            "\n",
            "\n",
            "Tweets POSITIVOS:\n",
            "RT @KawsachunNews: Lula: China 🇨🇳 has an important role in searching for an to end the Russia-Ukraine conflict. https://t.co/TcgQNL2CjQ\n",
            "RT @GayerGus: Pacheco e LULA não contavam com a maior mobilização popular pela presidência do senado na história. \n",
            "#PachecoNAO \n",
            "Fale com se…\n",
            "RT @SweetenerDiego: antisocial no soy, selectivo social si\n",
            "\n",
            "\n",
            "Tweets NEGATIVOS:\n",
            "RT @PaolaMalacara_: nadie habla de lo doloroso y horrible que es obligarte a ser mala y fría con personas que no quiero serlo pero que se l…\n",
            "RT @berlinerzeitung: Lula da Silva will eine Gruppe von Ländern bilden, die stark genug ist, um die beiden Kriegsparteien an den Verhandlun…\n"
          ]
        }
      ]
    }
  ]
}